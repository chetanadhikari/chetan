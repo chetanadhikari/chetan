{
 "cells": [
  {
   "cell_type": "code",
   "execution_count": 30,
   "metadata": {},
   "outputs": [
    {
     "name": "stdout",
     "output_type": "stream",
     "text": [
      "Downloading started\n",
      "Downloading completed\n",
      "Downloading started\n",
      "Downloading completed\n",
      "Downloading started\n",
      "Downloading completed\n"
     ]
    }
   ],
   "source": [
    "import requests,zipfile\n",
    "from io import BytesIO\n",
    "list=['01','02','03']\n",
    "url=\"https://data.binance.vision/data/spot/daily/trades/BTCUSDT/BTCUSDT-trades-2022-03-$$.zip\"\n",
    "for i in list:\n",
    "    print('Downloading started')\n",
    "    urlt=url.replace('$$',i)\n",
    "    filename=urlt.split('/')[-1]\n",
    "    req=requests.get(urlt)\n",
    "    print('Downloading completed')\n",
    "    z='zipfile'+i\n",
    "    z=zipfile.ZipFile(BytesIO(req.content))\n",
    "    z.extractall(r'C:\\Users\\DELL\\Downloads\\data')"
   ]
  },
  {
   "cell_type": "code",
   "execution_count": 39,
   "metadata": {},
   "outputs": [],
   "source": [
    "#in order to free up some memory we can remove the last two columns as its not required\n",
    "import pandas as pd\n",
    "df=pd.read_csv('BTCUSDT-trades-2022-03-01.csv')\n",
    "dw=pd.read_csv('BTCUSDT-trades-2022-03-02.csv')\n",
    "dg=pd.read_csv('BTCUSDT-trades-2022-03-03.csv')"
   ]
  },
  {
   "cell_type": "code",
   "execution_count": 49,
   "metadata": {},
   "outputs": [],
   "source": [
    "dd=df.drop(['True', 'True.1'], axis = 1)"
   ]
  },
  {
   "cell_type": "code",
   "execution_count": 50,
   "metadata": {},
   "outputs": [],
   "source": [
    "de=dw.drop(['True', 'True.1'], axis = 1)"
   ]
  },
  {
   "cell_type": "code",
   "execution_count": 51,
   "metadata": {},
   "outputs": [],
   "source": [
    "dr=dg.drop(['True', 'False'], axis = 1)"
   ]
  },
  {
   "cell_type": "code",
   "execution_count": null,
   "metadata": {},
   "outputs": [],
   "source": [
    "import backtrader as bt\n",
    "data = dd\n",
    "cerebro.adddata(data) \n",
    "class MyStrategy(bt.Strategy):\n",
    "    def next(self):\n",
    "        pass #Do something\n",
    "    def __init__(self):\n",
    "        #Keep a reference to the \"close\" line in the data[0] dataseries\n",
    "        self.dataclose = self.datas[0].close\n",
    "    def log(self, txt, dt=None):\n",
    "        dt = dt or self.datas[0].datetime.date(0)\n",
    "\t\tprint(f'{dt.isoformat()} {txt}')\n",
    "#Instantiate Cerebro engine\n",
    "cerebro = bt.Cerebro()\n",
    "\n",
    "#Add strategy to Cerebro\n",
    "cerebro.addstrategy(MyStrategy)\n",
    "\n",
    "#Run Cerebro Engine\n",
    "cerebro.run()"
   ]
  }
 ],
 "metadata": {
  "kernelspec": {
   "display_name": "Python 3",
   "language": "python",
   "name": "python3"
  },
  "language_info": {
   "codemirror_mode": {
    "name": "ipython",
    "version": 3
   },
   "file_extension": ".py",
   "mimetype": "text/x-python",
   "name": "python",
   "nbconvert_exporter": "python",
   "pygments_lexer": "ipython3",
   "version": "3.8.5"
  }
 },
 "nbformat": 4,
 "nbformat_minor": 4
}
